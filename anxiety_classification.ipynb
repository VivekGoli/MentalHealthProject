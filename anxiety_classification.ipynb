{
 "cells": [
  {
   "cell_type": "markdown",
   "id": "4a885bcc",
   "metadata": {},
   "source": [
    "## Importing required libraries\n",
    "  "
   ]
  },
  {
   "cell_type": "code",
   "execution_count": 267,
   "id": "7f187661",
   "metadata": {},
   "outputs": [],
   "source": [
    "import pandas as pd\n",
    "import numpy as np\n",
    "import matplotlib.pyplot as plt\n",
    "from statistics import mean\n",
    "%matplotlib inline"
   ]
  },
  {
   "cell_type": "markdown",
   "id": "9f652431",
   "metadata": {},
   "source": [
    "## Loading Dataframe"
   ]
  },
  {
   "cell_type": "code",
   "execution_count": 269,
   "id": "4cacc0ee",
   "metadata": {},
   "outputs": [],
   "source": [
    "df=pd.read_csv('anxiety_data.csv')"
   ]
  },
  {
   "cell_type": "code",
   "execution_count": 270,
   "id": "e17d206e",
   "metadata": {
    "scrolled": true
   },
   "outputs": [
    {
     "data": {
      "text/html": [
       "<div>\n",
       "<style scoped>\n",
       "    .dataframe tbody tr th:only-of-type {\n",
       "        vertical-align: middle;\n",
       "    }\n",
       "\n",
       "    .dataframe tbody tr th {\n",
       "        vertical-align: top;\n",
       "    }\n",
       "\n",
       "    .dataframe thead th {\n",
       "        text-align: right;\n",
       "    }\n",
       "</style>\n",
       "<table border=\"1\" class=\"dataframe\">\n",
       "  <thead>\n",
       "    <tr style=\"text-align: right;\">\n",
       "      <th></th>\n",
       "      <th>Q2A</th>\n",
       "      <th>Q4A</th>\n",
       "      <th>Q7A</th>\n",
       "      <th>Q9A</th>\n",
       "      <th>Q15A</th>\n",
       "      <th>Q19A</th>\n",
       "      <th>Q20A</th>\n",
       "      <th>Q23A</th>\n",
       "      <th>Q25A</th>\n",
       "      <th>Q28A</th>\n",
       "      <th>...</th>\n",
       "      <th>TIPI10</th>\n",
       "      <th>education</th>\n",
       "      <th>urban</th>\n",
       "      <th>gender</th>\n",
       "      <th>age</th>\n",
       "      <th>religion</th>\n",
       "      <th>race</th>\n",
       "      <th>married</th>\n",
       "      <th>familysize</th>\n",
       "      <th>anxiety_label</th>\n",
       "    </tr>\n",
       "  </thead>\n",
       "  <tbody>\n",
       "    <tr>\n",
       "      <th>0</th>\n",
       "      <td>3</td>\n",
       "      <td>3</td>\n",
       "      <td>3</td>\n",
       "      <td>2</td>\n",
       "      <td>4</td>\n",
       "      <td>3</td>\n",
       "      <td>3</td>\n",
       "      <td>3</td>\n",
       "      <td>3</td>\n",
       "      <td>3</td>\n",
       "      <td>...</td>\n",
       "      <td>1</td>\n",
       "      <td>2</td>\n",
       "      <td>3</td>\n",
       "      <td>2</td>\n",
       "      <td>16</td>\n",
       "      <td>12</td>\n",
       "      <td>10</td>\n",
       "      <td>1</td>\n",
       "      <td>2</td>\n",
       "      <td>Extremely Severe</td>\n",
       "    </tr>\n",
       "    <tr>\n",
       "      <th>1</th>\n",
       "      <td>1</td>\n",
       "      <td>3</td>\n",
       "      <td>3</td>\n",
       "      <td>3</td>\n",
       "      <td>3</td>\n",
       "      <td>1</td>\n",
       "      <td>1</td>\n",
       "      <td>1</td>\n",
       "      <td>2</td>\n",
       "      <td>4</td>\n",
       "      <td>...</td>\n",
       "      <td>5</td>\n",
       "      <td>2</td>\n",
       "      <td>3</td>\n",
       "      <td>2</td>\n",
       "      <td>16</td>\n",
       "      <td>7</td>\n",
       "      <td>70</td>\n",
       "      <td>1</td>\n",
       "      <td>4</td>\n",
       "      <td>Extremely Severe</td>\n",
       "    </tr>\n",
       "    <tr>\n",
       "      <th>2</th>\n",
       "      <td>0</td>\n",
       "      <td>1</td>\n",
       "      <td>1</td>\n",
       "      <td>0</td>\n",
       "      <td>2</td>\n",
       "      <td>1</td>\n",
       "      <td>0</td>\n",
       "      <td>2</td>\n",
       "      <td>1</td>\n",
       "      <td>1</td>\n",
       "      <td>...</td>\n",
       "      <td>2</td>\n",
       "      <td>2</td>\n",
       "      <td>3</td>\n",
       "      <td>2</td>\n",
       "      <td>17</td>\n",
       "      <td>4</td>\n",
       "      <td>60</td>\n",
       "      <td>1</td>\n",
       "      <td>3</td>\n",
       "      <td>Mild</td>\n",
       "    </tr>\n",
       "    <tr>\n",
       "      <th>3</th>\n",
       "      <td>3</td>\n",
       "      <td>1</td>\n",
       "      <td>4</td>\n",
       "      <td>3</td>\n",
       "      <td>2</td>\n",
       "      <td>1</td>\n",
       "      <td>2</td>\n",
       "      <td>1</td>\n",
       "      <td>1</td>\n",
       "      <td>1</td>\n",
       "      <td>...</td>\n",
       "      <td>1</td>\n",
       "      <td>1</td>\n",
       "      <td>3</td>\n",
       "      <td>2</td>\n",
       "      <td>13</td>\n",
       "      <td>4</td>\n",
       "      <td>70</td>\n",
       "      <td>1</td>\n",
       "      <td>5</td>\n",
       "      <td>Extremely Severe</td>\n",
       "    </tr>\n",
       "    <tr>\n",
       "      <th>4</th>\n",
       "      <td>2</td>\n",
       "      <td>4</td>\n",
       "      <td>4</td>\n",
       "      <td>4</td>\n",
       "      <td>4</td>\n",
       "      <td>4</td>\n",
       "      <td>4</td>\n",
       "      <td>4</td>\n",
       "      <td>4</td>\n",
       "      <td>4</td>\n",
       "      <td>...</td>\n",
       "      <td>3</td>\n",
       "      <td>3</td>\n",
       "      <td>2</td>\n",
       "      <td>2</td>\n",
       "      <td>19</td>\n",
       "      <td>10</td>\n",
       "      <td>10</td>\n",
       "      <td>1</td>\n",
       "      <td>4</td>\n",
       "      <td>Extremely Severe</td>\n",
       "    </tr>\n",
       "  </tbody>\n",
       "</table>\n",
       "<p>5 rows × 33 columns</p>\n",
       "</div>"
      ],
      "text/plain": [
       "   Q2A  Q4A  Q7A  Q9A  Q15A  Q19A  Q20A  Q23A  Q25A  Q28A  ...  TIPI10  \\\n",
       "0    3    3    3    2     4     3     3     3     3     3  ...       1   \n",
       "1    1    3    3    3     3     1     1     1     2     4  ...       5   \n",
       "2    0    1    1    0     2     1     0     2     1     1  ...       2   \n",
       "3    3    1    4    3     2     1     2     1     1     1  ...       1   \n",
       "4    2    4    4    4     4     4     4     4     4     4  ...       3   \n",
       "\n",
       "   education  urban  gender  age  religion  race  married  familysize  \\\n",
       "0          2      3       2   16        12    10        1           2   \n",
       "1          2      3       2   16         7    70        1           4   \n",
       "2          2      3       2   17         4    60        1           3   \n",
       "3          1      3       2   13         4    70        1           5   \n",
       "4          3      2       2   19        10    10        1           4   \n",
       "\n",
       "      anxiety_label  \n",
       "0  Extremely Severe  \n",
       "1  Extremely Severe  \n",
       "2              Mild  \n",
       "3  Extremely Severe  \n",
       "4  Extremely Severe  \n",
       "\n",
       "[5 rows x 33 columns]"
      ]
     },
     "execution_count": 270,
     "metadata": {},
     "output_type": "execute_result"
    }
   ],
   "source": [
    "df.head()"
   ]
  },
  {
   "cell_type": "markdown",
   "id": "8869c945",
   "metadata": {},
   "source": [
    "## Checking NULL values"
   ]
  },
  {
   "cell_type": "code",
   "execution_count": 271,
   "id": "343b69a8",
   "metadata": {
    "scrolled": false
   },
   "outputs": [
    {
     "data": {
      "text/plain": [
       "Q2A              0\n",
       "Q4A              0\n",
       "Q7A              0\n",
       "Q9A              0\n",
       "Q15A             0\n",
       "Q19A             0\n",
       "Q20A             0\n",
       "Q23A             0\n",
       "Q25A             0\n",
       "Q28A             0\n",
       "Q30A             0\n",
       "Q36A             0\n",
       "Q40A             0\n",
       "Q41A             0\n",
       "TIPI1            0\n",
       "TIPI2            0\n",
       "TIPI3            0\n",
       "TIPI4            0\n",
       "TIPI5            0\n",
       "TIPI6            0\n",
       "TIPI7            0\n",
       "TIPI8            0\n",
       "TIPI9            0\n",
       "TIPI10           0\n",
       "education        0\n",
       "urban            0\n",
       "gender           0\n",
       "age              0\n",
       "religion         0\n",
       "race             0\n",
       "married          0\n",
       "familysize       0\n",
       "anxiety_label    0\n",
       "dtype: int64"
      ]
     },
     "execution_count": 271,
     "metadata": {},
     "output_type": "execute_result"
    }
   ],
   "source": [
    "df.isna().sum()"
   ]
  },
  {
   "cell_type": "markdown",
   "id": "4bfa76ee",
   "metadata": {},
   "source": [
    "## Droping unwanted columns"
   ]
  },
  {
   "cell_type": "code",
   "execution_count": 272,
   "id": "3e8c6abb",
   "metadata": {},
   "outputs": [],
   "source": [
    "unwanted=['urban','gender','education','religion','married','familysize','race']\n",
    "df.drop(unwanted,axis='columns',inplace=True)"
   ]
  },
  {
   "cell_type": "code",
   "execution_count": 273,
   "id": "1c7448ed",
   "metadata": {},
   "outputs": [
    {
     "data": {
      "text/html": [
       "<div>\n",
       "<style scoped>\n",
       "    .dataframe tbody tr th:only-of-type {\n",
       "        vertical-align: middle;\n",
       "    }\n",
       "\n",
       "    .dataframe tbody tr th {\n",
       "        vertical-align: top;\n",
       "    }\n",
       "\n",
       "    .dataframe thead th {\n",
       "        text-align: right;\n",
       "    }\n",
       "</style>\n",
       "<table border=\"1\" class=\"dataframe\">\n",
       "  <thead>\n",
       "    <tr style=\"text-align: right;\">\n",
       "      <th></th>\n",
       "      <th>Q2A</th>\n",
       "      <th>Q4A</th>\n",
       "      <th>Q7A</th>\n",
       "      <th>Q9A</th>\n",
       "      <th>Q15A</th>\n",
       "      <th>Q19A</th>\n",
       "      <th>Q20A</th>\n",
       "      <th>Q23A</th>\n",
       "      <th>Q25A</th>\n",
       "      <th>Q28A</th>\n",
       "      <th>...</th>\n",
       "      <th>TIPI3</th>\n",
       "      <th>TIPI4</th>\n",
       "      <th>TIPI5</th>\n",
       "      <th>TIPI6</th>\n",
       "      <th>TIPI7</th>\n",
       "      <th>TIPI8</th>\n",
       "      <th>TIPI9</th>\n",
       "      <th>TIPI10</th>\n",
       "      <th>age</th>\n",
       "      <th>anxiety_label</th>\n",
       "    </tr>\n",
       "  </thead>\n",
       "  <tbody>\n",
       "    <tr>\n",
       "      <th>0</th>\n",
       "      <td>3</td>\n",
       "      <td>3</td>\n",
       "      <td>3</td>\n",
       "      <td>2</td>\n",
       "      <td>4</td>\n",
       "      <td>3</td>\n",
       "      <td>3</td>\n",
       "      <td>3</td>\n",
       "      <td>3</td>\n",
       "      <td>3</td>\n",
       "      <td>...</td>\n",
       "      <td>7</td>\n",
       "      <td>7</td>\n",
       "      <td>7</td>\n",
       "      <td>7</td>\n",
       "      <td>7</td>\n",
       "      <td>5</td>\n",
       "      <td>1</td>\n",
       "      <td>1</td>\n",
       "      <td>16</td>\n",
       "      <td>Extremely Severe</td>\n",
       "    </tr>\n",
       "    <tr>\n",
       "      <th>1</th>\n",
       "      <td>1</td>\n",
       "      <td>3</td>\n",
       "      <td>3</td>\n",
       "      <td>3</td>\n",
       "      <td>3</td>\n",
       "      <td>1</td>\n",
       "      <td>1</td>\n",
       "      <td>1</td>\n",
       "      <td>2</td>\n",
       "      <td>4</td>\n",
       "      <td>...</td>\n",
       "      <td>4</td>\n",
       "      <td>7</td>\n",
       "      <td>5</td>\n",
       "      <td>4</td>\n",
       "      <td>7</td>\n",
       "      <td>7</td>\n",
       "      <td>1</td>\n",
       "      <td>5</td>\n",
       "      <td>16</td>\n",
       "      <td>Extremely Severe</td>\n",
       "    </tr>\n",
       "    <tr>\n",
       "      <th>2</th>\n",
       "      <td>0</td>\n",
       "      <td>1</td>\n",
       "      <td>1</td>\n",
       "      <td>0</td>\n",
       "      <td>2</td>\n",
       "      <td>1</td>\n",
       "      <td>0</td>\n",
       "      <td>2</td>\n",
       "      <td>1</td>\n",
       "      <td>1</td>\n",
       "      <td>...</td>\n",
       "      <td>2</td>\n",
       "      <td>2</td>\n",
       "      <td>5</td>\n",
       "      <td>6</td>\n",
       "      <td>5</td>\n",
       "      <td>5</td>\n",
       "      <td>3</td>\n",
       "      <td>2</td>\n",
       "      <td>17</td>\n",
       "      <td>Mild</td>\n",
       "    </tr>\n",
       "    <tr>\n",
       "      <th>3</th>\n",
       "      <td>3</td>\n",
       "      <td>1</td>\n",
       "      <td>4</td>\n",
       "      <td>3</td>\n",
       "      <td>2</td>\n",
       "      <td>1</td>\n",
       "      <td>2</td>\n",
       "      <td>1</td>\n",
       "      <td>1</td>\n",
       "      <td>1</td>\n",
       "      <td>...</td>\n",
       "      <td>7</td>\n",
       "      <td>4</td>\n",
       "      <td>6</td>\n",
       "      <td>4</td>\n",
       "      <td>6</td>\n",
       "      <td>1</td>\n",
       "      <td>6</td>\n",
       "      <td>1</td>\n",
       "      <td>13</td>\n",
       "      <td>Extremely Severe</td>\n",
       "    </tr>\n",
       "    <tr>\n",
       "      <th>4</th>\n",
       "      <td>2</td>\n",
       "      <td>4</td>\n",
       "      <td>4</td>\n",
       "      <td>4</td>\n",
       "      <td>4</td>\n",
       "      <td>4</td>\n",
       "      <td>4</td>\n",
       "      <td>4</td>\n",
       "      <td>4</td>\n",
       "      <td>4</td>\n",
       "      <td>...</td>\n",
       "      <td>3</td>\n",
       "      <td>6</td>\n",
       "      <td>5</td>\n",
       "      <td>5</td>\n",
       "      <td>5</td>\n",
       "      <td>6</td>\n",
       "      <td>3</td>\n",
       "      <td>3</td>\n",
       "      <td>19</td>\n",
       "      <td>Extremely Severe</td>\n",
       "    </tr>\n",
       "  </tbody>\n",
       "</table>\n",
       "<p>5 rows × 26 columns</p>\n",
       "</div>"
      ],
      "text/plain": [
       "   Q2A  Q4A  Q7A  Q9A  Q15A  Q19A  Q20A  Q23A  Q25A  Q28A  ...  TIPI3  TIPI4  \\\n",
       "0    3    3    3    2     4     3     3     3     3     3  ...      7      7   \n",
       "1    1    3    3    3     3     1     1     1     2     4  ...      4      7   \n",
       "2    0    1    1    0     2     1     0     2     1     1  ...      2      2   \n",
       "3    3    1    4    3     2     1     2     1     1     1  ...      7      4   \n",
       "4    2    4    4    4     4     4     4     4     4     4  ...      3      6   \n",
       "\n",
       "   TIPI5  TIPI6  TIPI7  TIPI8  TIPI9  TIPI10  age     anxiety_label  \n",
       "0      7      7      7      5      1       1   16  Extremely Severe  \n",
       "1      5      4      7      7      1       5   16  Extremely Severe  \n",
       "2      5      6      5      5      3       2   17              Mild  \n",
       "3      6      4      6      1      6       1   13  Extremely Severe  \n",
       "4      5      5      5      6      3       3   19  Extremely Severe  \n",
       "\n",
       "[5 rows x 26 columns]"
      ]
     },
     "execution_count": 273,
     "metadata": {},
     "output_type": "execute_result"
    }
   ],
   "source": [
    "df.head()"
   ]
  },
  {
   "cell_type": "markdown",
   "id": "32117efe",
   "metadata": {},
   "source": [
    "## Encoding Categorical Data\n"
   ]
  },
  {
   "cell_type": "code",
   "execution_count": 274,
   "id": "61d99d8d",
   "metadata": {},
   "outputs": [],
   "source": [
    "label={'Normal':0,\n",
    "       'Mild':1,\n",
    "      'Moderate':2,\n",
    "      'Severe':3,\n",
    "      'Extremely Severe':4}"
   ]
  },
  {
   "cell_type": "code",
   "execution_count": 275,
   "id": "646ef2d2",
   "metadata": {},
   "outputs": [],
   "source": [
    "df.replace({'anxiety_label':label},inplace=True)"
   ]
  },
  {
   "cell_type": "code",
   "execution_count": 276,
   "id": "49cca100",
   "metadata": {
    "scrolled": true
   },
   "outputs": [
    {
     "data": {
      "text/html": [
       "<div>\n",
       "<style scoped>\n",
       "    .dataframe tbody tr th:only-of-type {\n",
       "        vertical-align: middle;\n",
       "    }\n",
       "\n",
       "    .dataframe tbody tr th {\n",
       "        vertical-align: top;\n",
       "    }\n",
       "\n",
       "    .dataframe thead th {\n",
       "        text-align: right;\n",
       "    }\n",
       "</style>\n",
       "<table border=\"1\" class=\"dataframe\">\n",
       "  <thead>\n",
       "    <tr style=\"text-align: right;\">\n",
       "      <th></th>\n",
       "      <th>Q2A</th>\n",
       "      <th>Q4A</th>\n",
       "      <th>Q7A</th>\n",
       "      <th>Q9A</th>\n",
       "      <th>Q15A</th>\n",
       "      <th>Q19A</th>\n",
       "      <th>Q20A</th>\n",
       "      <th>Q23A</th>\n",
       "      <th>Q25A</th>\n",
       "      <th>Q28A</th>\n",
       "      <th>...</th>\n",
       "      <th>TIPI3</th>\n",
       "      <th>TIPI4</th>\n",
       "      <th>TIPI5</th>\n",
       "      <th>TIPI6</th>\n",
       "      <th>TIPI7</th>\n",
       "      <th>TIPI8</th>\n",
       "      <th>TIPI9</th>\n",
       "      <th>TIPI10</th>\n",
       "      <th>age</th>\n",
       "      <th>anxiety_label</th>\n",
       "    </tr>\n",
       "  </thead>\n",
       "  <tbody>\n",
       "    <tr>\n",
       "      <th>0</th>\n",
       "      <td>3</td>\n",
       "      <td>3</td>\n",
       "      <td>3</td>\n",
       "      <td>2</td>\n",
       "      <td>4</td>\n",
       "      <td>3</td>\n",
       "      <td>3</td>\n",
       "      <td>3</td>\n",
       "      <td>3</td>\n",
       "      <td>3</td>\n",
       "      <td>...</td>\n",
       "      <td>7</td>\n",
       "      <td>7</td>\n",
       "      <td>7</td>\n",
       "      <td>7</td>\n",
       "      <td>7</td>\n",
       "      <td>5</td>\n",
       "      <td>1</td>\n",
       "      <td>1</td>\n",
       "      <td>16</td>\n",
       "      <td>4</td>\n",
       "    </tr>\n",
       "    <tr>\n",
       "      <th>1</th>\n",
       "      <td>1</td>\n",
       "      <td>3</td>\n",
       "      <td>3</td>\n",
       "      <td>3</td>\n",
       "      <td>3</td>\n",
       "      <td>1</td>\n",
       "      <td>1</td>\n",
       "      <td>1</td>\n",
       "      <td>2</td>\n",
       "      <td>4</td>\n",
       "      <td>...</td>\n",
       "      <td>4</td>\n",
       "      <td>7</td>\n",
       "      <td>5</td>\n",
       "      <td>4</td>\n",
       "      <td>7</td>\n",
       "      <td>7</td>\n",
       "      <td>1</td>\n",
       "      <td>5</td>\n",
       "      <td>16</td>\n",
       "      <td>4</td>\n",
       "    </tr>\n",
       "    <tr>\n",
       "      <th>2</th>\n",
       "      <td>0</td>\n",
       "      <td>1</td>\n",
       "      <td>1</td>\n",
       "      <td>0</td>\n",
       "      <td>2</td>\n",
       "      <td>1</td>\n",
       "      <td>0</td>\n",
       "      <td>2</td>\n",
       "      <td>1</td>\n",
       "      <td>1</td>\n",
       "      <td>...</td>\n",
       "      <td>2</td>\n",
       "      <td>2</td>\n",
       "      <td>5</td>\n",
       "      <td>6</td>\n",
       "      <td>5</td>\n",
       "      <td>5</td>\n",
       "      <td>3</td>\n",
       "      <td>2</td>\n",
       "      <td>17</td>\n",
       "      <td>1</td>\n",
       "    </tr>\n",
       "    <tr>\n",
       "      <th>3</th>\n",
       "      <td>3</td>\n",
       "      <td>1</td>\n",
       "      <td>4</td>\n",
       "      <td>3</td>\n",
       "      <td>2</td>\n",
       "      <td>1</td>\n",
       "      <td>2</td>\n",
       "      <td>1</td>\n",
       "      <td>1</td>\n",
       "      <td>1</td>\n",
       "      <td>...</td>\n",
       "      <td>7</td>\n",
       "      <td>4</td>\n",
       "      <td>6</td>\n",
       "      <td>4</td>\n",
       "      <td>6</td>\n",
       "      <td>1</td>\n",
       "      <td>6</td>\n",
       "      <td>1</td>\n",
       "      <td>13</td>\n",
       "      <td>4</td>\n",
       "    </tr>\n",
       "    <tr>\n",
       "      <th>4</th>\n",
       "      <td>2</td>\n",
       "      <td>4</td>\n",
       "      <td>4</td>\n",
       "      <td>4</td>\n",
       "      <td>4</td>\n",
       "      <td>4</td>\n",
       "      <td>4</td>\n",
       "      <td>4</td>\n",
       "      <td>4</td>\n",
       "      <td>4</td>\n",
       "      <td>...</td>\n",
       "      <td>3</td>\n",
       "      <td>6</td>\n",
       "      <td>5</td>\n",
       "      <td>5</td>\n",
       "      <td>5</td>\n",
       "      <td>6</td>\n",
       "      <td>3</td>\n",
       "      <td>3</td>\n",
       "      <td>19</td>\n",
       "      <td>4</td>\n",
       "    </tr>\n",
       "  </tbody>\n",
       "</table>\n",
       "<p>5 rows × 26 columns</p>\n",
       "</div>"
      ],
      "text/plain": [
       "   Q2A  Q4A  Q7A  Q9A  Q15A  Q19A  Q20A  Q23A  Q25A  Q28A  ...  TIPI3  TIPI4  \\\n",
       "0    3    3    3    2     4     3     3     3     3     3  ...      7      7   \n",
       "1    1    3    3    3     3     1     1     1     2     4  ...      4      7   \n",
       "2    0    1    1    0     2     1     0     2     1     1  ...      2      2   \n",
       "3    3    1    4    3     2     1     2     1     1     1  ...      7      4   \n",
       "4    2    4    4    4     4     4     4     4     4     4  ...      3      6   \n",
       "\n",
       "   TIPI5  TIPI6  TIPI7  TIPI8  TIPI9  TIPI10  age  anxiety_label  \n",
       "0      7      7      7      5      1       1   16              4  \n",
       "1      5      4      7      7      1       5   16              4  \n",
       "2      5      6      5      5      3       2   17              1  \n",
       "3      6      4      6      1      6       1   13              4  \n",
       "4      5      5      5      6      3       3   19              4  \n",
       "\n",
       "[5 rows x 26 columns]"
      ]
     },
     "execution_count": 276,
     "metadata": {},
     "output_type": "execute_result"
    }
   ],
   "source": [
    "df.head()"
   ]
  },
  {
   "cell_type": "markdown",
   "id": "b6f069e2",
   "metadata": {},
   "source": [
    "## Selecting Target Variable"
   ]
  },
  {
   "cell_type": "code",
   "execution_count": 277,
   "id": "da6c6840",
   "metadata": {},
   "outputs": [],
   "source": [
    "target=df.anxiety_label"
   ]
  },
  {
   "cell_type": "code",
   "execution_count": 278,
   "id": "4872747c",
   "metadata": {},
   "outputs": [],
   "source": [
    "df.drop('anxiety_label',axis='columns',inplace=True)"
   ]
  },
  {
   "cell_type": "code",
   "execution_count": 279,
   "id": "b266230b",
   "metadata": {},
   "outputs": [
    {
     "data": {
      "text/html": [
       "<div>\n",
       "<style scoped>\n",
       "    .dataframe tbody tr th:only-of-type {\n",
       "        vertical-align: middle;\n",
       "    }\n",
       "\n",
       "    .dataframe tbody tr th {\n",
       "        vertical-align: top;\n",
       "    }\n",
       "\n",
       "    .dataframe thead th {\n",
       "        text-align: right;\n",
       "    }\n",
       "</style>\n",
       "<table border=\"1\" class=\"dataframe\">\n",
       "  <thead>\n",
       "    <tr style=\"text-align: right;\">\n",
       "      <th></th>\n",
       "      <th>Q2A</th>\n",
       "      <th>Q4A</th>\n",
       "      <th>Q7A</th>\n",
       "      <th>Q9A</th>\n",
       "      <th>Q15A</th>\n",
       "      <th>Q19A</th>\n",
       "      <th>Q20A</th>\n",
       "      <th>Q23A</th>\n",
       "      <th>Q25A</th>\n",
       "      <th>Q28A</th>\n",
       "      <th>...</th>\n",
       "      <th>TIPI2</th>\n",
       "      <th>TIPI3</th>\n",
       "      <th>TIPI4</th>\n",
       "      <th>TIPI5</th>\n",
       "      <th>TIPI6</th>\n",
       "      <th>TIPI7</th>\n",
       "      <th>TIPI8</th>\n",
       "      <th>TIPI9</th>\n",
       "      <th>TIPI10</th>\n",
       "      <th>age</th>\n",
       "    </tr>\n",
       "  </thead>\n",
       "  <tbody>\n",
       "    <tr>\n",
       "      <th>0</th>\n",
       "      <td>3</td>\n",
       "      <td>3</td>\n",
       "      <td>3</td>\n",
       "      <td>2</td>\n",
       "      <td>4</td>\n",
       "      <td>3</td>\n",
       "      <td>3</td>\n",
       "      <td>3</td>\n",
       "      <td>3</td>\n",
       "      <td>3</td>\n",
       "      <td>...</td>\n",
       "      <td>5</td>\n",
       "      <td>7</td>\n",
       "      <td>7</td>\n",
       "      <td>7</td>\n",
       "      <td>7</td>\n",
       "      <td>7</td>\n",
       "      <td>5</td>\n",
       "      <td>1</td>\n",
       "      <td>1</td>\n",
       "      <td>16</td>\n",
       "    </tr>\n",
       "    <tr>\n",
       "      <th>1</th>\n",
       "      <td>1</td>\n",
       "      <td>3</td>\n",
       "      <td>3</td>\n",
       "      <td>3</td>\n",
       "      <td>3</td>\n",
       "      <td>1</td>\n",
       "      <td>1</td>\n",
       "      <td>1</td>\n",
       "      <td>2</td>\n",
       "      <td>4</td>\n",
       "      <td>...</td>\n",
       "      <td>5</td>\n",
       "      <td>4</td>\n",
       "      <td>7</td>\n",
       "      <td>5</td>\n",
       "      <td>4</td>\n",
       "      <td>7</td>\n",
       "      <td>7</td>\n",
       "      <td>1</td>\n",
       "      <td>5</td>\n",
       "      <td>16</td>\n",
       "    </tr>\n",
       "    <tr>\n",
       "      <th>2</th>\n",
       "      <td>0</td>\n",
       "      <td>1</td>\n",
       "      <td>1</td>\n",
       "      <td>0</td>\n",
       "      <td>2</td>\n",
       "      <td>1</td>\n",
       "      <td>0</td>\n",
       "      <td>2</td>\n",
       "      <td>1</td>\n",
       "      <td>1</td>\n",
       "      <td>...</td>\n",
       "      <td>5</td>\n",
       "      <td>2</td>\n",
       "      <td>2</td>\n",
       "      <td>5</td>\n",
       "      <td>6</td>\n",
       "      <td>5</td>\n",
       "      <td>5</td>\n",
       "      <td>3</td>\n",
       "      <td>2</td>\n",
       "      <td>17</td>\n",
       "    </tr>\n",
       "    <tr>\n",
       "      <th>3</th>\n",
       "      <td>3</td>\n",
       "      <td>1</td>\n",
       "      <td>4</td>\n",
       "      <td>3</td>\n",
       "      <td>2</td>\n",
       "      <td>1</td>\n",
       "      <td>2</td>\n",
       "      <td>1</td>\n",
       "      <td>1</td>\n",
       "      <td>1</td>\n",
       "      <td>...</td>\n",
       "      <td>1</td>\n",
       "      <td>7</td>\n",
       "      <td>4</td>\n",
       "      <td>6</td>\n",
       "      <td>4</td>\n",
       "      <td>6</td>\n",
       "      <td>1</td>\n",
       "      <td>6</td>\n",
       "      <td>1</td>\n",
       "      <td>13</td>\n",
       "    </tr>\n",
       "    <tr>\n",
       "      <th>4</th>\n",
       "      <td>2</td>\n",
       "      <td>4</td>\n",
       "      <td>4</td>\n",
       "      <td>4</td>\n",
       "      <td>4</td>\n",
       "      <td>4</td>\n",
       "      <td>4</td>\n",
       "      <td>4</td>\n",
       "      <td>4</td>\n",
       "      <td>4</td>\n",
       "      <td>...</td>\n",
       "      <td>5</td>\n",
       "      <td>3</td>\n",
       "      <td>6</td>\n",
       "      <td>5</td>\n",
       "      <td>5</td>\n",
       "      <td>5</td>\n",
       "      <td>6</td>\n",
       "      <td>3</td>\n",
       "      <td>3</td>\n",
       "      <td>19</td>\n",
       "    </tr>\n",
       "  </tbody>\n",
       "</table>\n",
       "<p>5 rows × 25 columns</p>\n",
       "</div>"
      ],
      "text/plain": [
       "   Q2A  Q4A  Q7A  Q9A  Q15A  Q19A  Q20A  Q23A  Q25A  Q28A  ...  TIPI2  TIPI3  \\\n",
       "0    3    3    3    2     4     3     3     3     3     3  ...      5      7   \n",
       "1    1    3    3    3     3     1     1     1     2     4  ...      5      4   \n",
       "2    0    1    1    0     2     1     0     2     1     1  ...      5      2   \n",
       "3    3    1    4    3     2     1     2     1     1     1  ...      1      7   \n",
       "4    2    4    4    4     4     4     4     4     4     4  ...      5      3   \n",
       "\n",
       "   TIPI4  TIPI5  TIPI6  TIPI7  TIPI8  TIPI9  TIPI10  age  \n",
       "0      7      7      7      7      5      1       1   16  \n",
       "1      7      5      4      7      7      1       5   16  \n",
       "2      2      5      6      5      5      3       2   17  \n",
       "3      4      6      4      6      1      6       1   13  \n",
       "4      6      5      5      5      6      3       3   19  \n",
       "\n",
       "[5 rows x 25 columns]"
      ]
     },
     "execution_count": 279,
     "metadata": {},
     "output_type": "execute_result"
    }
   ],
   "source": [
    "df.head()"
   ]
  },
  {
   "cell_type": "markdown",
   "id": "ad52e7a4",
   "metadata": {},
   "source": [
    "## Using K Fold Cross Validation"
   ]
  },
  {
   "cell_type": "code",
   "execution_count": 280,
   "id": "f92abe47",
   "metadata": {},
   "outputs": [],
   "source": [
    "def score(model,X_train,X_test,y_train,y_test):\n",
    "    model.fit(X_train,y_train)\n",
    "    return model.score(X_test,y_test)"
   ]
  },
  {
   "cell_type": "code",
   "execution_count": 281,
   "id": "7775e467",
   "metadata": {},
   "outputs": [],
   "source": [
    "from sklearn.tree import DecisionTreeClassifier\n",
    "from sklearn.linear_model import LogisticRegression\n",
    "from sklearn.svm import SVC\n",
    "from sklearn.ensemble import RandomForestClassifier\n",
    "from sklearn.naive_bayes import MultinomialNB\n",
    "from sklearn.neighbors import KNeighborsClassifier"
   ]
  },
  {
   "cell_type": "code",
   "execution_count": 282,
   "id": "c934608a",
   "metadata": {},
   "outputs": [],
   "source": [
    "from sklearn.model_selection import StratifiedKFold\n",
    "fold=StratifiedKFold(n_splits=4)"
   ]
  },
  {
   "cell_type": "code",
   "execution_count": 283,
   "id": "94a07087",
   "metadata": {},
   "outputs": [],
   "source": [
    "decisionTreeScore=[]\n",
    "logisticRegressionScore=[]\n",
    "svcScore=[]\n",
    "randomForestScore=[]\n",
    "naiveBayesScore=[]\n",
    "KNNScore=[]"
   ]
  },
  {
   "cell_type": "code",
   "execution_count": 284,
   "id": "c3ad53a1",
   "metadata": {},
   "outputs": [],
   "source": [
    "df_arr=df.to_numpy()"
   ]
  },
  {
   "cell_type": "code",
   "execution_count": 285,
   "id": "a91cb076",
   "metadata": {},
   "outputs": [],
   "source": [
    "target_arr=target.to_numpy()"
   ]
  },
  {
   "cell_type": "code",
   "execution_count": 286,
   "id": "470c7d14",
   "metadata": {
    "scrolled": true
   },
   "outputs": [],
   "source": [
    "for train_index,test_index in fold.split(df_arr,target_arr):\n",
    "    X_train,X_test,y_train,y_test=df_arr[train_index],df_arr[test_index],target_arr[train_index],target_arr[test_index]\n",
    "    decisionTreeScore.append(score(DecisionTreeClassifier(),X_train,X_test,y_train,y_test))\n",
    "    logisticRegressionScore.append(score(LogisticRegression(solver='liblinear',multi_class='ovr'),X_train,X_test,y_train,y_test))\n",
    "    svcScore.append(score(SVC(gamma='auto'),X_train,X_test,y_train,y_test))\n",
    "    randomForestScore.append(score(RandomForestClassifier(n_estimators=40),X_train,X_test,y_train,y_test))\n",
    "    naiveBayesScore.append(score(MultinomialNB(),X_train,X_test,y_train,y_test))\n",
    "    KNNScore.append(score(KNeighborsClassifier(),X_train,X_test,y_train,y_test))"
   ]
  },
  {
   "cell_type": "markdown",
   "id": "05a30c90",
   "metadata": {},
   "source": [
    "### Decision Tree Classificasion Score"
   ]
  },
  {
   "cell_type": "code",
   "execution_count": 287,
   "id": "3e9cc8c0",
   "metadata": {
    "scrolled": true
   },
   "outputs": [
    {
     "data": {
      "text/plain": [
       "[0.795152855993564, 0.792135961383749, 0.7997787610619469, 0.8002614904958262]"
      ]
     },
     "execution_count": 287,
     "metadata": {},
     "output_type": "execute_result"
    }
   ],
   "source": [
    "decisionTreeScore"
   ]
  },
  {
   "cell_type": "code",
   "execution_count": 288,
   "id": "dda53d47",
   "metadata": {},
   "outputs": [
    {
     "data": {
      "text/plain": [
       "0.7968322672337715"
      ]
     },
     "execution_count": 288,
     "metadata": {},
     "output_type": "execute_result"
    }
   ],
   "source": [
    "mean(decisionTreeScore)"
   ]
  },
  {
   "cell_type": "markdown",
   "id": "6f37bb66",
   "metadata": {},
   "source": [
    "### Logistic Regression Score"
   ]
  },
  {
   "cell_type": "code",
   "execution_count": 289,
   "id": "455cbdbe",
   "metadata": {},
   "outputs": [
    {
     "data": {
      "text/plain": [
       "[0.8107401448109413,\n",
       " 0.8083266291230893,\n",
       " 0.8072204344328238,\n",
       " 0.8067987528914814]"
      ]
     },
     "execution_count": 289,
     "metadata": {},
     "output_type": "execute_result"
    }
   ],
   "source": [
    "logisticRegressionScore"
   ]
  },
  {
   "cell_type": "code",
   "execution_count": 290,
   "id": "c1a63d8f",
   "metadata": {},
   "outputs": [
    {
     "data": {
      "text/plain": [
       "0.8082714903145839"
      ]
     },
     "execution_count": 290,
     "metadata": {},
     "output_type": "execute_result"
    }
   ],
   "source": [
    "mean(logisticRegressionScore)"
   ]
  },
  {
   "cell_type": "markdown",
   "id": "3c086ecc",
   "metadata": {},
   "source": [
    "### Support Vector Machine(SVM) Score"
   ]
  },
  {
   "cell_type": "code",
   "execution_count": 291,
   "id": "0f987a32",
   "metadata": {},
   "outputs": [
    {
     "data": {
      "text/plain": [
       "[0.9269911504424779,\n",
       " 0.9293041029766693,\n",
       " 0.9345333869670153,\n",
       " 0.9259780750276576]"
      ]
     },
     "execution_count": 291,
     "metadata": {},
     "output_type": "execute_result"
    }
   ],
   "source": [
    "svcScore"
   ]
  },
  {
   "cell_type": "code",
   "execution_count": 292,
   "id": "8b0183ad",
   "metadata": {},
   "outputs": [
    {
     "data": {
      "text/plain": [
       "0.9292016788534551"
      ]
     },
     "execution_count": 292,
     "metadata": {},
     "output_type": "execute_result"
    }
   ],
   "source": [
    "mean(svcScore)"
   ]
  },
  {
   "cell_type": "markdown",
   "id": "e69b55f0",
   "metadata": {},
   "source": [
    "### Random Forest Classification Score"
   ]
  },
  {
   "cell_type": "code",
   "execution_count": 293,
   "id": "22fdcc0e",
   "metadata": {},
   "outputs": [
    {
     "data": {
      "text/plain": [
       "[0.8926991150442478,\n",
       " 0.8982300884955752,\n",
       " 0.9024537409493162,\n",
       " 0.9006336115860404]"
      ]
     },
     "execution_count": 293,
     "metadata": {},
     "output_type": "execute_result"
    }
   ],
   "source": [
    "randomForestScore"
   ]
  },
  {
   "cell_type": "code",
   "execution_count": 294,
   "id": "b494f4c9",
   "metadata": {},
   "outputs": [
    {
     "data": {
      "text/plain": [
       "0.8985041390187949"
      ]
     },
     "execution_count": 294,
     "metadata": {},
     "output_type": "execute_result"
    }
   ],
   "source": [
    "mean(randomForestScore)"
   ]
  },
  {
   "cell_type": "markdown",
   "id": "c42d3400",
   "metadata": {},
   "source": [
    "### Naive Bayes Classification Score"
   ]
  },
  {
   "cell_type": "code",
   "execution_count": 295,
   "id": "2f89ae1d",
   "metadata": {},
   "outputs": [
    {
     "data": {
      "text/plain": [
       "[0.7277755430410298,\n",
       " 0.7301890587288817,\n",
       " 0.7469831053901851,\n",
       " 0.7355928794126522]"
      ]
     },
     "execution_count": 295,
     "metadata": {},
     "output_type": "execute_result"
    }
   ],
   "source": [
    "naiveBayesScore"
   ]
  },
  {
   "cell_type": "code",
   "execution_count": 296,
   "id": "1f3d7301",
   "metadata": {},
   "outputs": [
    {
     "data": {
      "text/plain": [
       "0.7351351466431872"
      ]
     },
     "execution_count": 296,
     "metadata": {},
     "output_type": "execute_result"
    }
   ],
   "source": [
    "mean(naiveBayesScore)"
   ]
  },
  {
   "cell_type": "markdown",
   "id": "b6354da1",
   "metadata": {},
   "source": [
    "### KNN Score"
   ]
  },
  {
   "cell_type": "code",
   "execution_count": 297,
   "id": "22634617",
   "metadata": {},
   "outputs": [
    {
     "data": {
      "text/plain": [
       "[0.75, 0.7566371681415929, 0.7607602574416734, 0.7505782962888464]"
      ]
     },
     "execution_count": 297,
     "metadata": {},
     "output_type": "execute_result"
    }
   ],
   "source": [
    "KNNScore"
   ]
  },
  {
   "cell_type": "code",
   "execution_count": 298,
   "id": "fc3d2a96",
   "metadata": {},
   "outputs": [
    {
     "data": {
      "text/plain": [
       "0.7544939304680282"
      ]
     },
     "execution_count": 298,
     "metadata": {},
     "output_type": "execute_result"
    }
   ],
   "source": [
    "mean(KNNScore)"
   ]
  },
  {
   "cell_type": "markdown",
   "id": "8ae7641c",
   "metadata": {},
   "source": [
    "#### We found that SVM score is greater than other classificaton techniques.So now we create our model with SVC classifier."
   ]
  },
  {
   "cell_type": "code",
   "execution_count": 299,
   "id": "b0f29a0f",
   "metadata": {},
   "outputs": [],
   "source": [
    "from sklearn.model_selection import train_test_split\n",
    "X_train,X_test,y_train,y_test=train_test_split(df,target,test_size=0.4)"
   ]
  },
  {
   "cell_type": "code",
   "execution_count": 300,
   "id": "0eee4470",
   "metadata": {},
   "outputs": [],
   "source": [
    "model=SVC()"
   ]
  },
  {
   "cell_type": "code",
   "execution_count": 301,
   "id": "32910500",
   "metadata": {},
   "outputs": [
    {
     "data": {
      "text/plain": [
       "SVC()"
      ]
     },
     "execution_count": 301,
     "metadata": {},
     "output_type": "execute_result"
    }
   ],
   "source": [
    "model.fit(X_train,y_train)"
   ]
  },
  {
   "cell_type": "code",
   "execution_count": 302,
   "id": "1087fab9",
   "metadata": {},
   "outputs": [
    {
     "data": {
      "text/plain": [
       "0.967316153362665"
      ]
     },
     "execution_count": 302,
     "metadata": {},
     "output_type": "execute_result"
    }
   ],
   "source": [
    "model.score(X_test,y_test)"
   ]
  },
  {
   "cell_type": "code",
   "execution_count": 303,
   "id": "2847e7b0",
   "metadata": {},
   "outputs": [],
   "source": [
    "pred=model.predict(X_test)"
   ]
  },
  {
   "cell_type": "markdown",
   "id": "94441ec6",
   "metadata": {},
   "source": [
    "## Calculating Metrics."
   ]
  },
  {
   "cell_type": "markdown",
   "id": "1d09a5c7",
   "metadata": {},
   "source": [
    "### 1.Confusion Matrix"
   ]
  },
  {
   "cell_type": "code",
   "execution_count": 304,
   "id": "541ebe2a",
   "metadata": {},
   "outputs": [],
   "source": [
    "from sklearn.metrics import confusion_matrix\n",
    "cf=confusion_matrix(y_test,pred)"
   ]
  },
  {
   "cell_type": "code",
   "execution_count": 305,
   "id": "cc7b880c",
   "metadata": {
    "scrolled": false
   },
   "outputs": [
    {
     "data": {
      "text/plain": [
       "Text(60.0, 0.5, 'truth')"
      ]
     },
     "execution_count": 305,
     "metadata": {},
     "output_type": "execute_result"
    },
    {
     "data": {
      "image/png": "[encoded data removed]",
      "text/plain": [
       "<Figure size 648x504 with 2 Axes>"
      ]
     },
     "metadata": {
      "needs_background": "light"
     },
     "output_type": "display_data"
    }
   ],
   "source": [
    "import seaborn as sn\n",
    "plt.figure(figsize=(9,7))\n",
    "sn.heatmap(cf,annot=True,fmt=\".0f\")\n",
    "plt.xlabel('predicted')\n",
    "plt.ylabel('truth')"
   ]
  },
  {
   "cell_type": "markdown",
   "id": "a77fc549",
   "metadata": {},
   "source": [
    "### 2.Precision"
   ]
  },
  {
   "cell_type": "code",
   "execution_count": 306,
   "id": "f4107a6e",
   "metadata": {},
   "outputs": [],
   "source": [
    "from sklearn.metrics import precision_score"
   ]
  },
  {
   "cell_type": "code",
   "execution_count": 307,
   "id": "4ecf9f78",
   "metadata": {},
   "outputs": [],
   "source": [
    "y_test_arr=y_test.to_numpy()"
   ]
  },
  {
   "cell_type": "code",
   "execution_count": 314,
   "id": "ef97ed4f",
   "metadata": {
    "scrolled": true
   },
   "outputs": [
    {
     "data": {
      "text/plain": [
       "0.9504216758536185"
      ]
     },
     "execution_count": 314,
     "metadata": {},
     "output_type": "execute_result"
    }
   ],
   "source": [
    "precision_score(y_test_arr,pred,pos_label=1,average='macro')"
   ]
  },
  {
   "cell_type": "markdown",
   "id": "fdc11aa9",
   "metadata": {},
   "source": [
    "### 3.Recall"
   ]
  },
  {
   "cell_type": "code",
   "execution_count": 308,
   "id": "19013206",
   "metadata": {},
   "outputs": [],
   "source": [
    "from sklearn.metrics import recall_score"
   ]
  },
  {
   "cell_type": "code",
   "execution_count": 315,
   "id": "f66085e6",
   "metadata": {},
   "outputs": [
    {
     "data": {
      "text/plain": [
       "0.921902668890428"
      ]
     },
     "execution_count": 315,
     "metadata": {},
     "output_type": "execute_result"
    }
   ],
   "source": [
    "recall_score(y_test,pred,pos_label=1,average='macro')"
   ]
  }
 ],
 "metadata": {
  "kernelspec": {
   "display_name": "Python 3 (ipykernel)",
   "language": "python",
   "name": "python3"
  },
  "language_info": {
   "codemirror_mode": {
    "name": "ipython",
    "version": 3
   },
   "file_extension": ".py",
   "mimetype": "text/x-python",
   "name": "python",
   "nbconvert_exporter": "python",
   "pygments_lexer": "ipython3",
   "version": "3.9.12"
  }
 },
 "nbformat": 4,
 "nbformat_minor": 5
}
